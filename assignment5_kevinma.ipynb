{
 "cells": [
  {
   "cell_type": "markdown",
   "metadata": {},
   "source": [
    "Objective: Practice adding callbacks to Dash apps.\n",
    " \n",
    "\n",
    "Task:\n",
    "(1) Build an app that contains the following components user the gapminder dataset: `gdp_pcap.csv`. \n",
    "TASK 1 is the same as ASSIGNMENT 4. You are welcome to update your code. \n",
    "\n",
    "UI Components:\n",
    "A dropdown menu that allows the user to select `country`\n",
    "- The dropdown should allow the user to select multiple countries\n",
    "- The options should populate from the dataset (not be hard-coded)\n",
    "A slider that allows the user to select `year`\n",
    "- The slider should allow the user to select a range of years\n",
    "- The range should be from the minimum year in the dataset to the maximum year in the dataset\n",
    "A graph that displays the `gdpPercap` for the selected countries over the selected years\n",
    "- The graph should display the gdpPercap for each country as a line\n",
    "- Each country should have a unique color\n",
    "- The graph should have a title and axis labels in reader friendly format\n",
    " \n",
    "\n",
    "(2) Write Callback functions for the slider and dropdown to interact with the graph\n",
    "\n",
    "This means that when a user updates a widget the graph should update accordingly.\n",
    "The widgets should be independent of each other. \n",
    "Layout:\n",
    "- Use a stylesheet\n",
    "- There should be a title at the top of the page\n",
    "- There should be a description of the data and app below the title (3-5 sentences)\n",
    "- The dropdown and slider should be side by side above the graph and take up the full width of the page\n",
    "- The graph should be below the dropdown and slider and take up the full width of the page\n",
    "Submission:\n",
    "- Deploy your app on Render. \n",
    "- In Canvas, submit the URL to your public Github Repo (made specifically for this assignment)\n",
    "- The readme in your GitHub repo should contain the URL to your Render page. \n",
    "**For help you may use the web resources and pandas documentation. No co-pilot or ChatGPT.**"
   ]
  },
  {
   "cell_type": "code",
   "execution_count": 1,
   "metadata": {},
   "outputs": [
    {
     "name": "stdout",
     "output_type": "stream",
     "text": [
      "       country  1800  1801  1802  1803  1804  1805  1806  1807  1808  ...  \\\n",
      "0  Afghanistan   599   599   599   599   599   599   599   599   599  ...   \n",
      "1       Angola   465   466   469   471   472   475   477   479   481  ...   \n",
      "2      Albania   585   587   588   590   592   593   595   597   598  ...   \n",
      "3      Andorra  1710  1710  1710  1720  1720  1720  1730  1730  1730  ...   \n",
      "4          UAE  1420  1430  1430  1440  1450  1450  1460  1460  1470  ...   \n",
      "\n",
      "    2091   2092   2093   2094   2095   2096   2097   2098   2099   2100  \n",
      "0   4800   4910   5030   5150   5270   5390   5520   5650   5780   5920  \n",
      "1  24.8k  25.3k  25.9k  26.4k  26.9k  27.4k    28k  28.5k  29.1k  29.6k  \n",
      "2    54k  54.6k  55.2k  55.8k  56.4k  56.9k  57.5k  58.1k  58.7k  59.2k  \n",
      "3  79.3k  79.5k  79.8k  80.1k  80.4k  80.7k    81k  81.2k  81.5k  81.8k  \n",
      "4  92.5k  92.6k  92.6k  92.7k  92.8k  92.9k  92.9k    93k  93.1k  93.1k  \n",
      "\n",
      "[5 rows x 302 columns]\n",
      "country    object\n",
      "1800        int64\n",
      "1801        int64\n",
      "1802        int64\n",
      "1803        int64\n",
      "            ...  \n",
      "2096       object\n",
      "2097       object\n",
      "2098       object\n",
      "2099       object\n",
      "2100       object\n",
      "Length: 302, dtype: object\n"
     ]
    }
   ],
   "source": [
    "# Import Libraries\n",
    "import pandas as pd\n",
    "from dash import Dash, dcc, html, Input, Output\n",
    "import plotly.express as px\n",
    "\n",
    "# Load csv file\n",
    "raw_data = pd.read_csv('gdp_pcap.csv')\n",
    "\n",
    "# check the first 5 rows of the data and the data types\n",
    "print(raw_data.head())\n",
    "print(raw_data.dtypes)"
   ]
  },
  {
   "cell_type": "code",
   "execution_count": 2,
   "metadata": {},
   "outputs": [
    {
     "name": "stdout",
     "output_type": "stream",
     "text": [
      "       country  year   gdp\n",
      "0  Afghanistan  1800   599\n",
      "1       Angola  1800   465\n",
      "2      Albania  1800   585\n",
      "3      Andorra  1800  1710\n",
      "4          UAE  1800  1420\n",
      "country    object\n",
      "year        int64\n",
      "gdp        object\n",
      "dtype: object\n"
     ]
    }
   ],
   "source": [
    "# Melt the DataFrame to reshape it\n",
    "# https://pandas.pydata.org/docs/reference/api/pandas.melt.html (class example also used melt)\n",
    "df = raw_data.melt(id_vars=['country'], var_name='year', value_name='gdp')\n",
    "# turn year to int\n",
    "df['year'] = df['year'].astype(int)\n",
    "\n",
    "print(df.head())\n",
    "print(df.dtypes)"
   ]
  },
  {
   "cell_type": "code",
   "execution_count": 3,
   "metadata": {},
   "outputs": [],
   "source": [
    "# Function to convert GDP values to regular numbers\n",
    "def convert_gdp(gdp_str):\n",
    "    if isinstance(gdp_str, str) and 'k' in gdp_str:\n",
    "        return float(gdp_str.replace('k', '')) * 1000\n",
    "    else:\n",
    "        return gdp_str\n",
    "\n",
    "# Apply the function to each GDP value\n",
    "df['gdp'] = df['gdp'].apply(convert_gdp)\n",
    "\n",
    "# Convert 'gdp' column to numeric type\n",
    "df['gdp'] = df['gdp'].astype(int)"
   ]
  },
  {
   "cell_type": "code",
   "execution_count": 4,
   "metadata": {},
   "outputs": [],
   "source": [
    "# Make sure the k is removed and converted\n",
    "# for gdp_value in df['gdp']:\n",
    "#     print(gdp_value)"
   ]
  },
  {
   "cell_type": "code",
   "execution_count": 5,
   "metadata": {},
   "outputs": [
    {
     "name": "stdout",
     "output_type": "stream",
     "text": [
      "Dash app running on http://127.0.0.1:8050/\n"
     ]
    },
    {
     "data": {
      "application/javascript": "window.open('http://127.0.0.1:8050/')",
      "text/plain": [
       "<IPython.core.display.Javascript object>"
      ]
     },
     "metadata": {},
     "output_type": "display_data"
    }
   ],
   "source": [
    "# https://dash.plotly.com/tutorial\n",
    "\n",
    "# Initialize the app\n",
    "# style sheet used. followed from the tutorial\n",
    "external_stylesheets = ['https://codepen.io/chriddyp/pen/bWLwgP.css']\n",
    "app = Dash(__name__, external_stylesheets=external_stylesheets)\n",
    "server = app.server\n",
    "\n",
    "# App layout\n",
    "app.layout = html.Div([\n",
    "    # https://dash.plotly.com/dash-html-components\n",
    "    \n",
    "    # Title\n",
    "    html.Div(className='row', children='Assignment 4: Basic UI',\n",
    "             style={'textAlign': 'center', 'fontFamily': 'Arial', 'color': 'blue', 'fontSize': 25}),\n",
    "    \n",
    "    # Paragraph describing the app\n",
    "    html.P('A dash data application that will display the GDP per capita over time for a given country. The dropdown menu allows users to select multiple countries while the slider allows the user to select a range of years. The data spans from the years 1800-2100. By default, no countries are selected, so we see the overall GDP displayed.',\n",
    "           style={'textAlign': 'left', 'fontFamily': 'Arial', 'color': 'blue', 'fontSize': 15}),\n",
    "    \n",
    "    # https://dash.plotly.com/layout\n",
    "    # we do six columns to make the dropdown and slider side by side\n",
    "    html.Div(className='row', children=[\n",
    "        html.Div(className='six columns', children=[\n",
    "            # https://dash.plotly.com/dash-core-components/dropdown\n",
    "            dcc.Dropdown(\n",
    "                id='countries-dropdown',\n",
    "                # all the unique countries in the data\n",
    "                options=[{'label': country, 'value': country} for country in df['country'].unique()],\n",
    "                # allows you to select multiple countries\n",
    "                multi=True,\n",
    "                # placeholder text\n",
    "                placeholder=\"Select Country\",\n",
    "                # default \n",
    "                value=[]\n",
    "            ),\n",
    "        ]),\n",
    "\n",
    "        html.Div(className='six columns', children=[\n",
    "            # https://dash.plotly.com/dash-core-components/slider\n",
    "            dcc.RangeSlider(\n",
    "                id='year-slider',\n",
    "                # min and max year values to get the range of years\n",
    "                min=df['year'].min(),\n",
    "                max=df['year'].max(),\n",
    "                # step is 1, so the slider will move by 1 year\n",
    "                step=1, \n",
    "                # Create a label for marks and rotate it 45 degrees\n",
    "                marks={year: {'label': str(year), 'style': {'transform': 'rotate(45deg)'}}\n",
    "                       # every 10 years, we will have a mark\n",
    "                       for year in range(df['year'].min(), df['year'].max() + 1, 10)},\n",
    "                # default value is the min and max year\n",
    "                value=[df['year'].min(), df['year'].max()],\n",
    "                # we dont want the slider to cross\n",
    "                allowCross=False,\n",
    "            )\n",
    "        ])\n",
    "    ]),\n",
    "    dcc.Graph(id='gdp-per-capita-graph')\n",
    "])\n",
    "\n",
    "# https://dash.plotly.com/basic-callbacks\n",
    "# Define callback to update the graph based on dropdown selection\n",
    "@app.callback(\n",
    "    Output('gdp-per-capita-graph', 'figure'),\n",
    "    [Input('countries-dropdown', 'value'),\n",
    "    Input('year-slider', 'value')]\n",
    ")\n",
    "# attempted to make the graph update based on the year slider too, but it did not work\n",
    "def update_graph(selected_countries, selected_years):\n",
    "    # no countries selected, show overall GDP\n",
    "    if not selected_countries:\n",
    "        # filter the data based on the selected years\n",
    "        filtered_df = df[(df['year'] >= selected_years[0]) & (df['year'] <= selected_years[1])]\n",
    "        return px.line(filtered_df, x='year', y='gdp', color=None).update_layout(\n",
    "            # title of the graph\n",
    "            title='GDP Per Capita Over Time', \n",
    "            xaxis_title='Year', \n",
    "            yaxis_title='GDP Per Capita',\n",
    "            template='plotly_white'  \n",
    "        )\n",
    "    # make a graph based on the selected countries\n",
    "    else:\n",
    "        filtered_df = df[df['country'].isin(selected_countries)]\n",
    "        # filter the data based on the selected years\n",
    "        filtered_df = filtered_df[(filtered_df['year'] >= selected_years[0]) & (filtered_df['year'] <= selected_years[1])]\n",
    "        return px.line(filtered_df, x='year', y='gdp', color='country').update_layout(\n",
    "            # title of the graph\n",
    "            title='GDP Per Capita Over Time', \n",
    "            xaxis_title='Year',  \n",
    "            yaxis_title='GDP Per Capita',\n",
    "            template='plotly_white'\n",
    "        )\n",
    "\n",
    "# Run the app\n",
    "if __name__ == '__main__':\n",
    "    app.run(jupyter_mode='tab', debug=True)\n"
   ]
  }
 ],
 "metadata": {
  "kernelspec": {
   "display_name": "ds4003",
   "language": "python",
   "name": "python3"
  },
  "language_info": {
   "codemirror_mode": {
    "name": "ipython",
    "version": 3
   },
   "file_extension": ".py",
   "mimetype": "text/x-python",
   "name": "python",
   "nbconvert_exporter": "python",
   "pygments_lexer": "ipython3",
   "version": "3.8.18"
  }
 },
 "nbformat": 4,
 "nbformat_minor": 2
}
